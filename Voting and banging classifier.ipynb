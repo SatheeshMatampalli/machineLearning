{
 "cells": [
  {
   "cell_type": "code",
   "execution_count": 1,
   "metadata": {},
   "outputs": [],
   "source": [
    "from sklearn.datasets import make_moons\n"
   ]
  },
  {
   "cell_type": "code",
   "execution_count": 5,
   "metadata": {},
   "outputs": [],
   "source": [
    "from sklearn.ensemble import RandomForestClassifier\n",
    "from sklearn.linear_model import LogisticRegression\n",
    "from sklearn.ensemble import VotingClassifier\n"
   ]
  },
  {
   "cell_type": "code",
   "execution_count": 6,
   "metadata": {},
   "outputs": [],
   "source": [
    "log_clf=LogisticRegression()\n",
    "rnd_clf=RandomForestClassifier()"
   ]
  },
  {
   "cell_type": "code",
   "execution_count": 15,
   "metadata": {},
   "outputs": [
    {
     "data": {
      "text/plain": [
       "array([[-3.22140161e-02,  9.91183435e-01],\n",
       "       [ 1.89369937e+00, -1.43260983e-01],\n",
       "       [ 9.37139867e-01,  2.60605533e-02],\n",
       "       [-2.09992548e-03,  7.37796614e-02],\n",
       "       [ 9.30798303e-01, -5.19403855e-01],\n",
       "       [ 2.01988692e+00,  3.93408264e-01],\n",
       "       [ 5.44042634e-01,  5.96292060e-01],\n",
       "       [ 9.28075755e-01, -6.24226911e-01],\n",
       "       [ 1.74199561e-03,  3.19609386e-01],\n",
       "       [ 1.84154522e+00,  3.03519978e-01],\n",
       "       [-1.30194649e-01,  4.61523379e-01],\n",
       "       [ 1.95220698e+00, -1.21516672e-01],\n",
       "       [ 1.36130855e+00, -6.10645836e-01],\n",
       "       [ 9.48854620e-01,  9.69104083e-01],\n",
       "       [ 6.84138531e-01,  4.90457831e-01],\n",
       "       [-3.55948639e-01,  1.02909238e+00],\n",
       "       [ 2.30422245e-01,  1.11016938e+00],\n",
       "       [ 1.68179520e-01,  9.11612785e-01],\n",
       "       [-3.77758742e-01,  8.16951549e-01],\n",
       "       [ 1.01735851e+00,  5.21809968e-01],\n",
       "       [-7.61970461e-01,  5.16251552e-01],\n",
       "       [ 3.72609000e-01, -1.95418424e-01],\n",
       "       [ 8.33035136e-01,  4.72017740e-01],\n",
       "       [ 7.41318027e-01, -4.66926176e-01],\n",
       "       [-8.12672471e-01,  6.21062359e-02],\n",
       "       [-8.72287428e-01, -1.59446492e-01],\n",
       "       [ 7.66384507e-01,  3.43897712e-01],\n",
       "       [ 2.09068584e+00,  2.38541265e-01],\n",
       "       [ 1.69117231e+00, -1.07063009e-01],\n",
       "       [ 1.28972971e+00, -3.00274672e-01],\n",
       "       [ 3.36316802e-01, -1.21930601e-01],\n",
       "       [ 1.20075555e+00, -7.37085245e-01],\n",
       "       [ 1.85154771e+00, -2.83068193e-02],\n",
       "       [ 5.07344380e-01, -3.69596817e-01],\n",
       "       [ 3.53935925e-02,  5.01207225e-01],\n",
       "       [-1.66462110e-01,  9.94666546e-01],\n",
       "       [ 2.64453775e-01,  9.57520771e-01],\n",
       "       [ 1.27147333e-01,  1.85955213e-01],\n",
       "       [ 3.65917583e-02, -2.35526406e-02],\n",
       "       [ 9.96877552e-01, -5.62615939e-01],\n",
       "       [ 1.25898341e+00,  9.45720361e-03],\n",
       "       [ 4.40147205e-01, -2.70961540e-01],\n",
       "       [-8.88562378e-01,  2.40224971e-01],\n",
       "       [-9.70484339e-01,  3.13688900e-01],\n",
       "       [ 9.96941259e-01,  3.15739580e-01],\n",
       "       [ 7.51714957e-01,  1.10267533e+00],\n",
       "       [ 5.69671863e-01,  1.22924931e+00],\n",
       "       [-6.03472718e-01,  6.37200458e-01],\n",
       "       [-8.93050457e-01,  4.05065271e-01],\n",
       "       [ 8.61804797e-01,  2.34433125e-01],\n",
       "       [ 1.63791515e+00,  1.11272143e-03],\n",
       "       [-1.09779924e-01, -1.40211184e-01],\n",
       "       [ 8.60776122e-01,  2.23608288e-01],\n",
       "       [-5.42791760e-01,  7.49431605e-01],\n",
       "       [ 4.93322638e-02,  6.30807290e-01],\n",
       "       [ 9.76814019e-02,  3.30425533e-01],\n",
       "       [ 6.44843960e-01,  8.15619163e-01],\n",
       "       [-4.22571849e-01,  5.16716435e-01],\n",
       "       [ 1.59684895e-01,  1.15877547e+00],\n",
       "       [-4.94178660e-02,  4.66953050e-01],\n",
       "       [ 7.18965237e-01,  6.76279391e-01],\n",
       "       [-3.88530911e-01,  9.53662895e-01],\n",
       "       [ 3.44394132e-01, -2.26407095e-01],\n",
       "       [ 1.13181276e-01, -1.56769318e-01],\n",
       "       [ 9.99439947e-01, -6.29304733e-01],\n",
       "       [ 1.35918397e+00, -3.25124965e-01],\n",
       "       [-3.05340957e-01,  9.24092937e-01],\n",
       "       [ 1.57915233e+00, -4.75008710e-01],\n",
       "       [ 6.83967654e-01,  6.79222595e-01],\n",
       "       [ 1.99076195e+00, -3.98944019e-01],\n",
       "       [ 2.95560495e-01,  8.94053362e-01],\n",
       "       [-6.17281700e-01,  9.31142421e-01],\n",
       "       [-9.41153792e-01,  3.62452210e-02],\n",
       "       [ 2.00738040e+00,  2.47687160e-01],\n",
       "       [ 2.07185930e+00,  4.49446699e-01],\n",
       "       [ 5.04999815e-01, -5.58474154e-01],\n",
       "       [ 3.15588923e-01,  1.03718731e+00],\n",
       "       [ 1.84414652e+00,  3.21947653e-01],\n",
       "       [ 7.39482387e-01, -4.67183109e-01],\n",
       "       [ 1.22363430e+00, -4.89109192e-01],\n",
       "       [-8.48888235e-02,  1.12240621e+00],\n",
       "       [-6.40051191e-01,  8.75271530e-01],\n",
       "       [ 1.34741041e+00, -3.10663335e-01],\n",
       "       [-9.28476405e-01,  3.48296429e-01],\n",
       "       [-8.64998057e-01,  7.08953126e-02],\n",
       "       [ 2.26409830e-01, -1.06346336e-01],\n",
       "       [ 1.62968598e-01, -2.93671159e-02],\n",
       "       [ 7.25904958e-01,  4.88650919e-01],\n",
       "       [ 1.72219515e+00, -1.75135349e-01],\n",
       "       [ 6.11556827e-01, -2.87993823e-01],\n",
       "       [ 1.69297576e+00, -3.10269601e-01],\n",
       "       [-7.47011856e-01,  6.85844330e-01],\n",
       "       [ 2.62114980e-01,  8.80481626e-01],\n",
       "       [ 1.44755381e+00, -5.82146919e-01],\n",
       "       [ 1.00423181e+00,  5.71970714e-01],\n",
       "       [ 1.84050613e+00,  4.48280521e-01],\n",
       "       [ 3.78042472e-01, -5.19560247e-01],\n",
       "       [ 6.64712241e-01, -3.50798561e-01],\n",
       "       [-1.15514518e+00,  2.75494756e-01],\n",
       "       [-1.12293670e+00,  2.49627654e-01]])"
      ]
     },
     "execution_count": 15,
     "metadata": {},
     "output_type": "execute_result"
    }
   ],
   "source": [
    "x,y=make_moons(n_samples=100,noise=0.15,random_state=0)\n",
    "x"
   ]
  },
  {
   "cell_type": "code",
   "execution_count": 16,
   "metadata": {},
   "outputs": [],
   "source": [
    "from sklearn.model_selection import train_test_split\n",
    "x_train,x_test,y_train,y_test=train_test_split(x,y,test_size=0.2,random_state=1)"
   ]
  },
  {
   "cell_type": "code",
   "execution_count": 17,
   "metadata": {},
   "outputs": [
    {
     "name": "stderr",
     "output_type": "stream",
     "text": [
      "C:\\Users\\apssdc\\Anaconda3\\lib\\site-packages\\sklearn\\linear_model\\logistic.py:433: FutureWarning: Default solver will be changed to 'lbfgs' in 0.22. Specify a solver to silence this warning.\n",
      "  FutureWarning)\n",
      "C:\\Users\\apssdc\\Anaconda3\\lib\\site-packages\\sklearn\\ensemble\\forest.py:246: FutureWarning: The default value of n_estimators will change from 10 in version 0.20 to 100 in 0.22.\n",
      "  \"10 in version 0.20 to 100 in 0.22.\", FutureWarning)\n"
     ]
    },
    {
     "data": {
      "text/plain": [
       "VotingClassifier(estimators=[('lr', LogisticRegression(C=1.0, class_weight=None, dual=False, fit_intercept=True,\n",
       "          intercept_scaling=1, max_iter=100, multi_class='warn',\n",
       "          n_jobs=None, penalty='l2', random_state=None, solver='warn',\n",
       "          tol=0.0001, verbose=0, warm_start=False)), ('rf', RandomFo...obs=None,\n",
       "            oob_score=False, random_state=None, verbose=0,\n",
       "            warm_start=False))],\n",
       "         flatten_transform=None, n_jobs=None, voting='hard', weights=None)"
      ]
     },
     "execution_count": 17,
     "metadata": {},
     "output_type": "execute_result"
    }
   ],
   "source": [
    "voting_clf =VotingClassifier(estimators=[('lr',log_clf),('rf',rnd_clf)],voting = \"hard\")\n",
    "voting_clf.fit(x_train,y_train)"
   ]
  },
  {
   "cell_type": "code",
   "execution_count": 23,
   "metadata": {},
   "outputs": [
    {
     "name": "stdout",
     "output_type": "stream",
     "text": [
      "LogisticRegression 0.85\n",
      "RandomForestClassifier 0.95\n",
      "VotingClassifier 0.95\n"
     ]
    },
    {
     "name": "stderr",
     "output_type": "stream",
     "text": [
      "C:\\Users\\apssdc\\Anaconda3\\lib\\site-packages\\sklearn\\linear_model\\logistic.py:433: FutureWarning: Default solver will be changed to 'lbfgs' in 0.22. Specify a solver to silence this warning.\n",
      "  FutureWarning)\n",
      "C:\\Users\\apssdc\\Anaconda3\\lib\\site-packages\\sklearn\\ensemble\\forest.py:246: FutureWarning: The default value of n_estimators will change from 10 in version 0.20 to 100 in 0.22.\n",
      "  \"10 in version 0.20 to 100 in 0.22.\", FutureWarning)\n",
      "C:\\Users\\apssdc\\Anaconda3\\lib\\site-packages\\sklearn\\linear_model\\logistic.py:433: FutureWarning: Default solver will be changed to 'lbfgs' in 0.22. Specify a solver to silence this warning.\n",
      "  FutureWarning)\n"
     ]
    }
   ],
   "source": [
    "from sklearn.metrics import accuracy_score\n",
    "for clf in (log_clf,rnd_clf,voting_clf):\n",
    "    clf.fit(x_train,y_train)\n",
    "    y_pred = clf.predict(x_test)\n",
    "    print(clf.__class__.__name__,accuracy_score(y_test,y_pred))"
   ]
  },
  {
   "cell_type": "code",
   "execution_count": 33,
   "metadata": {},
   "outputs": [],
   "source": [
    "from sklearn.ensemble import BaggingClassifier\n",
    "from sklearn.tree import DecisionTreeClassifier\n",
    "bag_clf=BaggingClassifier(DecisionTreeClassifier(),n_estimators=10,bootstrap=True,max_samples=10,oob_score=True,n_jobs=-1)\n"
   ]
  },
  {
   "cell_type": "code",
   "execution_count": 34,
   "metadata": {},
   "outputs": [
    {
     "data": {
      "text/plain": [
       "0.7875"
      ]
     },
     "execution_count": 34,
     "metadata": {},
     "output_type": "execute_result"
    }
   ],
   "source": [
    "bag_clf.fit(x_train,y_train)\n",
    "bag_clf.oob_score_\n"
   ]
  },
  {
   "cell_type": "code",
   "execution_count": 35,
   "metadata": {},
   "outputs": [],
   "source": [
    "bag_clf.fit(x_train,y_train)\n",
    "y_pred=bag_clf.predict(x_test)"
   ]
  },
  {
   "cell_type": "code",
   "execution_count": 36,
   "metadata": {},
   "outputs": [
    {
     "data": {
      "text/plain": [
       "0.9"
      ]
     },
     "execution_count": 36,
     "metadata": {},
     "output_type": "execute_result"
    }
   ],
   "source": [
    "accuracy_score(y_test,y_pred)"
   ]
  },
  {
   "cell_type": "code",
   "execution_count": null,
   "metadata": {},
   "outputs": [],
   "source": []
  }
 ],
 "metadata": {
  "kernelspec": {
   "display_name": "Python 3",
   "language": "python",
   "name": "python3"
  },
  "language_info": {
   "codemirror_mode": {
    "name": "ipython",
    "version": 3
   },
   "file_extension": ".py",
   "mimetype": "text/x-python",
   "name": "python",
   "nbconvert_exporter": "python",
   "pygments_lexer": "ipython3",
   "version": "3.7.3"
  }
 },
 "nbformat": 4,
 "nbformat_minor": 2
}
